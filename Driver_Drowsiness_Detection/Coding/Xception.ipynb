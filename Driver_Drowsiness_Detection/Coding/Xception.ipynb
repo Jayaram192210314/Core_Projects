{
  "cells": [
    {
      "cell_type": "code",
      "execution_count": 51,
      "metadata": {
        "colab": {
          "base_uri": "https://localhost:8080/"
        },
        "id": "u07AURJzhFpk",
        "outputId": "6422e211-8e03-4d09-f07f-8187f6ee091e"
      },
      "outputs": [
        {
          "output_type": "stream",
          "name": "stdout",
          "text": [
            "Requirement already satisfied: tensorflow==2.8.0 in /usr/local/lib/python3.10/dist-packages (2.8.0)\n",
            "Requirement already satisfied: absl-py>=0.4.0 in /usr/local/lib/python3.10/dist-packages (from tensorflow==2.8.0) (1.4.0)\n",
            "Requirement already satisfied: astunparse>=1.6.0 in /usr/local/lib/python3.10/dist-packages (from tensorflow==2.8.0) (1.6.3)\n",
            "Requirement already satisfied: flatbuffers>=1.12 in /usr/local/lib/python3.10/dist-packages (from tensorflow==2.8.0) (23.5.26)\n",
            "Requirement already satisfied: gast>=0.2.1 in /usr/local/lib/python3.10/dist-packages (from tensorflow==2.8.0) (0.5.4)\n",
            "Requirement already satisfied: google-pasta>=0.1.1 in /usr/local/lib/python3.10/dist-packages (from tensorflow==2.8.0) (0.2.0)\n",
            "Requirement already satisfied: h5py>=2.9.0 in /usr/local/lib/python3.10/dist-packages (from tensorflow==2.8.0) (3.9.0)\n",
            "Requirement already satisfied: keras-preprocessing>=1.1.1 in /usr/local/lib/python3.10/dist-packages (from tensorflow==2.8.0) (1.1.2)\n",
            "Requirement already satisfied: libclang>=9.0.1 in /usr/local/lib/python3.10/dist-packages (from tensorflow==2.8.0) (16.0.6)\n",
            "Requirement already satisfied: numpy>=1.20 in /usr/local/lib/python3.10/dist-packages (from tensorflow==2.8.0) (1.23.5)\n",
            "Requirement already satisfied: opt-einsum>=2.3.2 in /usr/local/lib/python3.10/dist-packages (from tensorflow==2.8.0) (3.3.0)\n",
            "Requirement already satisfied: protobuf>=3.9.2 in /usr/local/lib/python3.10/dist-packages (from tensorflow==2.8.0) (3.20.3)\n",
            "Requirement already satisfied: setuptools in /usr/local/lib/python3.10/dist-packages (from tensorflow==2.8.0) (67.7.2)\n",
            "Requirement already satisfied: six>=1.12.0 in /usr/local/lib/python3.10/dist-packages (from tensorflow==2.8.0) (1.16.0)\n",
            "Requirement already satisfied: termcolor>=1.1.0 in /usr/local/lib/python3.10/dist-packages (from tensorflow==2.8.0) (2.4.0)\n",
            "Requirement already satisfied: typing-extensions>=3.6.6 in /usr/local/lib/python3.10/dist-packages (from tensorflow==2.8.0) (4.9.0)\n",
            "Requirement already satisfied: wrapt>=1.11.0 in /usr/local/lib/python3.10/dist-packages (from tensorflow==2.8.0) (1.14.1)\n",
            "Requirement already satisfied: tensorboard<2.9,>=2.8 in /usr/local/lib/python3.10/dist-packages (from tensorflow==2.8.0) (2.8.0)\n",
            "Requirement already satisfied: tf-estimator-nightly==2.8.0.dev2021122109 in /usr/local/lib/python3.10/dist-packages (from tensorflow==2.8.0) (2.8.0.dev2021122109)\n",
            "Requirement already satisfied: keras<2.9,>=2.8.0rc0 in /usr/local/lib/python3.10/dist-packages (from tensorflow==2.8.0) (2.8.0)\n",
            "Requirement already satisfied: tensorflow-io-gcs-filesystem>=0.23.1 in /usr/local/lib/python3.10/dist-packages (from tensorflow==2.8.0) (0.36.0)\n",
            "Requirement already satisfied: grpcio<2.0,>=1.24.3 in /usr/local/lib/python3.10/dist-packages (from tensorflow==2.8.0) (1.60.1)\n",
            "Requirement already satisfied: wheel<1.0,>=0.23.0 in /usr/local/lib/python3.10/dist-packages (from astunparse>=1.6.0->tensorflow==2.8.0) (0.42.0)\n",
            "Requirement already satisfied: google-auth<3,>=1.6.3 in /usr/local/lib/python3.10/dist-packages (from tensorboard<2.9,>=2.8->tensorflow==2.8.0) (2.17.3)\n",
            "Requirement already satisfied: google-auth-oauthlib<0.5,>=0.4.1 in /usr/local/lib/python3.10/dist-packages (from tensorboard<2.9,>=2.8->tensorflow==2.8.0) (0.4.6)\n",
            "Requirement already satisfied: markdown>=2.6.8 in /usr/local/lib/python3.10/dist-packages (from tensorboard<2.9,>=2.8->tensorflow==2.8.0) (3.5.2)\n",
            "Requirement already satisfied: requests<3,>=2.21.0 in /usr/local/lib/python3.10/dist-packages (from tensorboard<2.9,>=2.8->tensorflow==2.8.0) (2.31.0)\n",
            "Requirement already satisfied: tensorboard-data-server<0.7.0,>=0.6.0 in /usr/local/lib/python3.10/dist-packages (from tensorboard<2.9,>=2.8->tensorflow==2.8.0) (0.6.1)\n",
            "Requirement already satisfied: tensorboard-plugin-wit>=1.6.0 in /usr/local/lib/python3.10/dist-packages (from tensorboard<2.9,>=2.8->tensorflow==2.8.0) (1.8.1)\n",
            "Requirement already satisfied: werkzeug>=0.11.15 in /usr/local/lib/python3.10/dist-packages (from tensorboard<2.9,>=2.8->tensorflow==2.8.0) (3.0.1)\n",
            "Requirement already satisfied: cachetools<6.0,>=2.0.0 in /usr/local/lib/python3.10/dist-packages (from google-auth<3,>=1.6.3->tensorboard<2.9,>=2.8->tensorflow==2.8.0) (5.3.2)\n",
            "Requirement already satisfied: pyasn1-modules>=0.2.1 in /usr/local/lib/python3.10/dist-packages (from google-auth<3,>=1.6.3->tensorboard<2.9,>=2.8->tensorflow==2.8.0) (0.3.0)\n",
            "Requirement already satisfied: rsa<5,>=3.1.4 in /usr/local/lib/python3.10/dist-packages (from google-auth<3,>=1.6.3->tensorboard<2.9,>=2.8->tensorflow==2.8.0) (4.9)\n",
            "Requirement already satisfied: requests-oauthlib>=0.7.0 in /usr/local/lib/python3.10/dist-packages (from google-auth-oauthlib<0.5,>=0.4.1->tensorboard<2.9,>=2.8->tensorflow==2.8.0) (1.3.1)\n",
            "Requirement already satisfied: charset-normalizer<4,>=2 in /usr/local/lib/python3.10/dist-packages (from requests<3,>=2.21.0->tensorboard<2.9,>=2.8->tensorflow==2.8.0) (3.3.2)\n",
            "Requirement already satisfied: idna<4,>=2.5 in /usr/local/lib/python3.10/dist-packages (from requests<3,>=2.21.0->tensorboard<2.9,>=2.8->tensorflow==2.8.0) (3.6)\n",
            "Requirement already satisfied: urllib3<3,>=1.21.1 in /usr/local/lib/python3.10/dist-packages (from requests<3,>=2.21.0->tensorboard<2.9,>=2.8->tensorflow==2.8.0) (2.0.7)\n",
            "Requirement already satisfied: certifi>=2017.4.17 in /usr/local/lib/python3.10/dist-packages (from requests<3,>=2.21.0->tensorboard<2.9,>=2.8->tensorflow==2.8.0) (2024.2.2)\n",
            "Requirement already satisfied: MarkupSafe>=2.1.1 in /usr/local/lib/python3.10/dist-packages (from werkzeug>=0.11.15->tensorboard<2.9,>=2.8->tensorflow==2.8.0) (2.1.5)\n",
            "Requirement already satisfied: pyasn1<0.6.0,>=0.4.6 in /usr/local/lib/python3.10/dist-packages (from pyasn1-modules>=0.2.1->google-auth<3,>=1.6.3->tensorboard<2.9,>=2.8->tensorflow==2.8.0) (0.5.1)\n",
            "Requirement already satisfied: oauthlib>=3.0.0 in /usr/local/lib/python3.10/dist-packages (from requests-oauthlib>=0.7.0->google-auth-oauthlib<0.5,>=0.4.1->tensorboard<2.9,>=2.8->tensorflow==2.8.0) (3.2.2)\n"
          ]
        }
      ],
      "source": [
        "pip install tensorflow==2.8.0"
      ]
    },
    {
      "cell_type": "code",
      "execution_count": 52,
      "metadata": {
        "colab": {
          "base_uri": "https://localhost:8080/"
        },
        "id": "wSKdVO3aTZGl",
        "outputId": "a6b76293-770c-42d1-bc5b-c4be10cf3920"
      },
      "outputs": [
        {
          "output_type": "stream",
          "name": "stdout",
          "text": [
            "Requirement already satisfied: scikit-learn in /usr/local/lib/python3.10/dist-packages (1.2.2)\n",
            "Requirement already satisfied: numpy>=1.17.3 in /usr/local/lib/python3.10/dist-packages (from scikit-learn) (1.23.5)\n",
            "Requirement already satisfied: scipy>=1.3.2 in /usr/local/lib/python3.10/dist-packages (from scikit-learn) (1.11.4)\n",
            "Requirement already satisfied: joblib>=1.1.1 in /usr/local/lib/python3.10/dist-packages (from scikit-learn) (1.3.2)\n",
            "Requirement already satisfied: threadpoolctl>=2.0.0 in /usr/local/lib/python3.10/dist-packages (from scikit-learn) (3.2.0)\n"
          ]
        }
      ],
      "source": [
        "pip install scikit-learn"
      ]
    },
    {
      "cell_type": "code",
      "execution_count": 53,
      "metadata": {
        "id": "PE5h8FQthHxr"
      },
      "outputs": [],
      "source": [
        "import os\n",
        "from glob import glob\n",
        "from matplotlib import pyplot\n",
        "import matplotlib.pyplot as plt\n",
        "import tensorflow as tf\n",
        "import random\n",
        "import cv2\n",
        "import pandas as pd\n",
        "import numpy as np\n",
        "import matplotlib.gridspec as gridspec\n",
        "import seaborn as sns\n",
        "import itertools\n",
        "import sklearn\n",
        "import itertools\n",
        "import scipy\n",
        "import skimage\n",
        "from skimage.transform import resize\n",
        "import csv\n",
        "from tqdm import tqdm\n",
        "from sklearn import model_selection\n",
        "from sklearn.model_selection import train_test_split, learning_curve,KFold,cross_val_score,StratifiedKFold\n",
        "from sklearn.metrics import confusion_matrix\n",
        "from sklearn.metrics import classification_report\n",
        "import keras\n",
        "from keras.utils import np_utils\n",
        "from keras.utils.np_utils import to_categorical\n",
        "from tensorflow.keras.utils import load_img,img_to_array\n",
        "from keras.preprocessing.image import ImageDataGenerator\n",
        "from keras import models, layers, optimizers\n",
        "from sklearn.model_selection import train_test_split\n",
        "from sklearn.metrics import confusion_matrix, accuracy_score\n",
        "from keras.layers import Activation,Dense, Dropout, Flatten\n",
        "\n",
        "from keras.models import Model\n",
        "\n",
        "%matplotlib inline\n",
        "\n",
        "import warnings\n",
        "warnings.filterwarnings(\"ignore\")"
      ]
    },
    {
      "cell_type": "code",
      "execution_count": 54,
      "metadata": {
        "colab": {
          "base_uri": "https://localhost:8080/"
        },
        "id": "nEAP6IxEY3l6",
        "outputId": "315ff361-d759-4428-a761-49ffb6724281"
      },
      "outputs": [
        {
          "output_type": "stream",
          "name": "stdout",
          "text": [
            "Drive already mounted at /content/drive; to attempt to forcibly remount, call drive.mount(\"/content/drive\", force_remount=True).\n"
          ]
        }
      ],
      "source": [
        "from google.colab import drive\n",
        "drive.mount('/content/drive')"
      ]
    },
    {
      "cell_type": "code",
      "execution_count": null,
      "metadata": {
        "colab": {
          "base_uri": "https://localhost:8080/"
        },
        "id": "K8on-KvkKvHd",
        "outputId": "fd576f71-9a7f-467e-b8c6-f88fa075b3f9"
      },
      "outputs": [
        {
          "name": "stdout",
          "output_type": "stream",
          "text": [
            "Mounted at /content/drive\n"
          ]
        }
      ],
      "source": [
        "from google.colab import drive\n",
        "drive.mount('/content/drive')"
      ]
    },
    {
      "cell_type": "code",
      "execution_count": 55,
      "metadata": {
        "id": "5fkQFM3Ef2ri"
      },
      "outputs": [],
      "source": [
        "''' Data Path '''\n",
        "train_path = '/content/drive/MyDrive/DATA1'"
      ]
    },
    {
      "cell_type": "code",
      "execution_count": 56,
      "metadata": {
        "colab": {
          "base_uri": "https://localhost:8080/"
        },
        "id": "WLXCLTByf9_g",
        "outputId": "84ae77e2-55f6-4bb1-9c68-4d9eedeffc92"
      },
      "outputs": [
        {
          "output_type": "stream",
          "name": "stdout",
          "text": [
            "['Closed', 'Open']\n"
          ]
        }
      ],
      "source": [
        "File=[]\n",
        "for f in os.listdir(train_path):\n",
        "    File += [f]\n",
        "\n",
        "'''  total number of classes '''\n",
        "print(File)"
      ]
    },
    {
      "cell_type": "code",
      "execution_count": 58,
      "metadata": {
        "id": "CMyJz2V6hEKW"
      },
      "outputs": [],
      "source": [
        "''' reading equal images for both GBM and LGG\n",
        "    ie., 300 images for GBM and 300 images for LGG\n",
        "\n",
        " '''\n",
        "\n",
        "train_data = []\n",
        "n_of_images=130\n",
        "\n",
        "''' label encoding '''\n",
        "mapping={'Closed':0, 'Open':1}\n",
        "\n",
        "count=0\n",
        "\n",
        "for f in os.listdir(train_path):\n",
        "    ''' joining path '''\n",
        "    t=0\n",
        "    path = os.path.join(train_path, f)\n",
        "    for im in os.listdir(path):\n",
        "        ''' loading an image '''\n",
        "        img = load_img(os.path.join(path, im), grayscale=False, color_mode='rgb', target_size=(150,150))\n",
        "        ''' converting an image to array '''\n",
        "        img = img_to_array(img)\n",
        "        ''' scaling  '''\n",
        "        img = img / 255.0\n",
        "        ''' appending image to train_data '''\n",
        "        train_data.append([img, count])\n",
        "        t+=1\n",
        "        if t==n_of_images:\n",
        "          break\n",
        "    count=count+1"
      ]
    },
    {
      "cell_type": "code",
      "execution_count": 59,
      "metadata": {
        "id": "f7VfT-UDizoA"
      },
      "outputs": [],
      "source": [
        "train_images, train_labels = zip(*train_data)"
      ]
    },
    {
      "cell_type": "code",
      "execution_count": 60,
      "metadata": {
        "colab": {
          "base_uri": "https://localhost:8080/"
        },
        "id": "gOHNDsuSi5oy",
        "outputId": "53349eb8-0d1c-4bac-f2bc-feede38a4d10"
      },
      "outputs": [
        {
          "output_type": "stream",
          "name": "stdout",
          "text": [
            "(140, 150, 150, 3)\n",
            "(140, 2)\n"
          ]
        }
      ],
      "source": [
        "''' converting labels into to_categorical '''\n",
        "train_labels = to_categorical(train_labels)\n",
        "\n",
        "''' coverting train_images into numpy array '''\n",
        "train_images = np.array(train_images)\n",
        "\n",
        "''' converting train_labesl into numpy array '''\n",
        "train_labels = np.array(train_labels)\n",
        "\n",
        "''' shaep of train_images and train_labels '''\n",
        "print(train_images.shape)\n",
        "print(train_labels.shape)"
      ]
    },
    {
      "cell_type": "code",
      "execution_count": 61,
      "metadata": {
        "id": "RvgdvMLSjAsd"
      },
      "outputs": [],
      "source": [
        "''' reshaping images '''\n",
        "train_images = train_images.reshape(-1,150,150,3)"
      ]
    },
    {
      "cell_type": "code",
      "execution_count": 62,
      "metadata": {
        "id": "qPLH9Sw3jEMc"
      },
      "outputs": [],
      "source": [
        "''' train test split '''\n",
        "X_train, X_test, y_train, y_test = train_test_split(train_images,train_labels, test_size=0.3,random_state=44)"
      ]
    },
    {
      "cell_type": "code",
      "execution_count": 63,
      "metadata": {
        "colab": {
          "base_uri": "https://localhost:8080/"
        },
        "id": "V_ZoNJp9jIvq",
        "outputId": "cdfd28ea-403d-4a88-ced1-14a5df814a78"
      },
      "outputs": [
        {
          "output_type": "stream",
          "name": "stdout",
          "text": [
            "(98, 150, 150, 3)\n",
            "(42, 150, 150, 3)\n",
            "(98, 2)\n",
            "(42, 2)\n"
          ]
        }
      ],
      "source": [
        "''' shape of X_train, X_test, y_train, y_test '''\n",
        "print(X_train.shape)\n",
        "print(X_test.shape)\n",
        "print(y_train.shape)\n",
        "print(y_test.shape)"
      ]
    },
    {
      "cell_type": "code",
      "execution_count": 64,
      "metadata": {
        "id": "FC9kp6kwjNQY"
      },
      "outputs": [],
      "source": [
        "''' data Augmentation '''\n",
        "data_aug = ImageDataGenerator(horizontal_flip=True, vertical_flip=True, rotation_range=20, zoom_range=0.2,\n",
        "                    width_shift_range=0.2, height_shift_range=0.2, shear_range=0.1, fill_mode=\"nearest\")"
      ]
    },
    {
      "cell_type": "markdown",
      "metadata": {
        "id": "Tk3CZ3LUjqNf"
      },
      "source": [
        "####### Working with Xception MODEL #######"
      ]
    },
    {
      "cell_type": "code",
      "execution_count": 65,
      "metadata": {
        "id": "ixIqxKVIjHPR"
      },
      "outputs": [],
      "source": [
        "import tensorflow as tf\n",
        "model1 =tf.keras.applications.xception.Xception(input_shape=(150,150,3),include_top=False,weights='imagenet',pooling='avg')\n",
        "''' freezing layers '''\n",
        "model1.trainable = False"
      ]
    },
    {
      "cell_type": "code",
      "execution_count": 66,
      "metadata": {
        "id": "XNdsnzR0jwYV"
      },
      "outputs": [],
      "source": [
        "inp = model1.input\n",
        "''' Hidden Layer '''\n",
        "x = tf.keras.layers.Dense(128, activation='relu')(model1.output)\n",
        "''' Classification Layer '''\n",
        "out = tf.keras.layers.Dense(2, activation='sigmoid')(x)\n",
        "\n",
        "''' Model '''\n",
        "model = tf.keras.Model(inputs=inp, outputs=out)\n",
        "\n",
        "''' compile the model '''\n",
        "model.compile(loss = 'categorical_crossentropy', optimizer='adam', metrics=['accuracy'])"
      ]
    },
    {
      "cell_type": "code",
      "execution_count": 67,
      "metadata": {
        "colab": {
          "base_uri": "https://localhost:8080/"
        },
        "id": "pGjtofNgjz0R",
        "outputId": "32825a2f-16b6-4c5f-907b-7d5c68366d7a"
      },
      "outputs": [
        {
          "output_type": "stream",
          "name": "stdout",
          "text": [
            "Epoch 1/10\n",
            "3/3 [==============================] - 14s 4s/step - loss: 0.9887 - accuracy: 0.4490 - val_loss: 0.4844 - val_accuracy: 0.8333\n",
            "Epoch 2/10\n",
            "3/3 [==============================] - 11s 4s/step - loss: 0.4268 - accuracy: 0.8367 - val_loss: 0.4244 - val_accuracy: 0.7857\n",
            "Epoch 3/10\n",
            "3/3 [==============================] - 10s 3s/step - loss: 0.2843 - accuracy: 0.9286 - val_loss: 0.3167 - val_accuracy: 0.8810\n",
            "Epoch 4/10\n",
            "3/3 [==============================] - 11s 5s/step - loss: 0.2688 - accuracy: 0.9184 - val_loss: 0.2923 - val_accuracy: 0.9048\n",
            "Epoch 5/10\n",
            "3/3 [==============================] - 11s 4s/step - loss: 0.2049 - accuracy: 0.9184 - val_loss: 0.2124 - val_accuracy: 0.9048\n",
            "Epoch 6/10\n",
            "3/3 [==============================] - 11s 5s/step - loss: 0.1561 - accuracy: 0.9592 - val_loss: 0.2010 - val_accuracy: 0.9286\n",
            "Epoch 7/10\n",
            "3/3 [==============================] - 12s 5s/step - loss: 0.1149 - accuracy: 0.9592 - val_loss: 0.1505 - val_accuracy: 0.9286\n",
            "Epoch 8/10\n",
            "3/3 [==============================] - 11s 5s/step - loss: 0.0845 - accuracy: 0.9694 - val_loss: 0.1324 - val_accuracy: 0.9286\n",
            "Epoch 9/10\n",
            "3/3 [==============================] - 10s 3s/step - loss: 0.1239 - accuracy: 0.9694 - val_loss: 0.1095 - val_accuracy: 0.9762\n",
            "Epoch 10/10\n",
            "3/3 [==============================] - 11s 5s/step - loss: 0.1881 - accuracy: 0.9082 - val_loss: 0.1076 - val_accuracy: 0.9286\n"
          ]
        }
      ],
      "source": [
        "''' training '''\n",
        "# Assuming you have data augmentation configured with `ImageDataGenerator` as `data_aug`\n",
        "# Ensure that `data_aug` is correctly configured with the necessary augmentation parameters\n",
        "\n",
        "# Use the flow method on `data_aug` to generate augmented data batches\n",
        "augmented_data = data_aug.flow(X_train, y_train, batch_size=42)\n",
        "\n",
        "# Train the model using the augmented data\n",
        "history = model.fit(augmented_data, validation_data=(X_test, y_test), epochs=10)\n"
      ]
    },
    {
      "cell_type": "code",
      "execution_count": 68,
      "metadata": {
        "colab": {
          "base_uri": "https://localhost:8080/"
        },
        "id": "XsFJuHBJk6HW",
        "outputId": "f463d19e-427a-4a06-d5cb-1e7d7bbb5d99"
      },
      "outputs": [
        {
          "output_type": "stream",
          "name": "stdout",
          "text": [
            "              precision    recall  f1-score   support\n",
            "\n",
            "           0       0.87      1.00      0.93        20\n",
            "           1       1.00      0.86      0.93        22\n",
            "\n",
            "    accuracy                           0.93        42\n",
            "   macro avg       0.93      0.93      0.93        42\n",
            "weighted avg       0.94      0.93      0.93        42\n",
            "\n"
          ]
        }
      ],
      "source": [
        "\n",
        "''' prediction '''\n",
        "y_pred=model.predict(X_test)\n",
        "\n",
        "''' retreiving max val from predicted values '''\n",
        "pred = np.argmax(y_pred,axis=1)\n",
        "\n",
        "''' retreiving max val from actual values '''\n",
        "ground = np.argmax(y_test,axis=1)\n",
        "\n",
        "''' classificaion report '''\n",
        "print(classification_report(ground,pred))"
      ]
    },
    {
      "cell_type": "code",
      "execution_count": 69,
      "metadata": {
        "colab": {
          "base_uri": "https://localhost:8080/",
          "height": 469
        },
        "id": "uSYaDGivk__V",
        "outputId": "0c83c0d3-f05a-4b7b-a25f-3c8e47827011"
      },
      "outputs": [
        {
          "output_type": "display_data",
          "data": {
            "text/plain": [
              "<Figure size 640x480 with 1 Axes>"
            ],
            "image/png": "[encoded data removed]"
          },
          "metadata": {}
        },
        {
          "output_type": "display_data",
          "data": {
            "text/plain": [
              "<Figure size 640x480 with 0 Axes>"
            ]
          },
          "metadata": {}
        }
      ],
      "source": [
        "''' training loss and validation loss graph '''\n",
        "epochs = range(1,11)\n",
        "plt.plot(epochs, history.history['loss'], 'r', label='Loss of Training data')\n",
        "plt.plot(epochs, history.history['val_loss'], 'g', label='Loss of Validation data')\n",
        "plt.title('Training vs validation loss')\n",
        "plt.legend(loc=0)\n",
        "plt.figure()\n",
        "plt.show()"
      ]
    },
    {
      "cell_type": "code",
      "execution_count": 70,
      "metadata": {
        "colab": {
          "base_uri": "https://localhost:8080/",
          "height": 469
        },
        "id": "g4Fk8PL-lLPP",
        "outputId": "bccc96d7-0bd3-40cf-e493-3e37c1cce148"
      },
      "outputs": [
        {
          "output_type": "display_data",
          "data": {
            "text/plain": [
              "<Figure size 640x480 with 1 Axes>"
            ],
            "image/png": "[encoded data removed]"
          },
          "metadata": {}
        },
        {
          "output_type": "display_data",
          "data": {
            "text/plain": [
              "<Figure size 640x480 with 0 Axes>"
            ]
          },
          "metadata": {}
        }
      ],
      "source": [
        "''' training accuracy and validation accuracy graph '''\n",
        "epochs = range(1,11)\n",
        "plt.plot(epochs, history.history['accuracy'], 'r', label='Accuracy of Training data')\n",
        "plt.plot(epochs, history.history['val_accuracy'], 'g', label='Accuracy of Validation data')\n",
        "plt.title('Training vs validation accuracy')\n",
        "plt.legend(loc=0)\n",
        "plt.figure()\n",
        "plt.show()"
      ]
    },
    {
      "cell_type": "code",
      "execution_count": 71,
      "metadata": {
        "colab": {
          "base_uri": "https://localhost:8080/"
        },
        "id": "ZTvJ8p8HlTZo",
        "outputId": "b800b712-eb68-4556-d31d-09f31c60429c"
      },
      "outputs": [
        {
          "output_type": "stream",
          "name": "stdout",
          "text": [
            "0.9285714285714286\n"
          ]
        }
      ],
      "source": [
        "''' checking accuracy score'''\n",
        "y_test_arg=np.argmax(y_test,axis=1)\n",
        "Y_pred = np.argmax(model.predict(X_test),axis=1)\n",
        "accuracy = accuracy_score(y_test_arg, Y_pred)\n",
        "print(accuracy)"
      ]
    },
    {
      "cell_type": "code",
      "execution_count": 72,
      "metadata": {
        "colab": {
          "base_uri": "https://localhost:8080/",
          "height": 472
        },
        "id": "Rw-XemLSleei",
        "outputId": "11c7879a-c23b-4dec-df02-18626cc0a6ac"
      },
      "outputs": [
        {
          "output_type": "display_data",
          "data": {
            "text/plain": [
              "<Figure size 640x480 with 2 Axes>"
            ],
            "image/png": "[encoded data removed]"
          },
          "metadata": {}
        }
      ],
      "source": [
        "import seaborn as sns\n",
        "from sklearn.metrics import confusion_matrix\n",
        "\n",
        "cm = confusion_matrix(y_test_arg, Y_pred)\n",
        "f = sns.heatmap(cm, annot=True, fmt='d')\n",
        "# labels, title and ticks\n",
        "f.set_xlabel('Predicted label');f.set_ylabel('True label');\n",
        "f.set_title('Confusion Matrix');\n",
        "f.xaxis.set_ticklabels(['DR', 'Normal']); f.yaxis.set_ticklabels(['DR', 'Normal']);"
      ]
    },
    {
      "cell_type": "code",
      "execution_count": 73,
      "metadata": {
        "colab": {
          "base_uri": "https://localhost:8080/"
        },
        "id": "CQTrpMhZlnf4",
        "outputId": "a88216d4-80be-4d2f-a23f-9759a4d0deaa"
      },
      "outputs": [
        {
          "output_type": "stream",
          "name": "stdout",
          "text": [
            "True Positives: 19\n",
            "True Negatives: 20\n",
            "False Positives: 0\n",
            "False Negatives: 3\n",
            "--------------------------------------------------\n",
            "Accuracy: 0.93\n",
            "Mis-Classification: 0.07\n",
            "Sensitivity: 0.86\n",
            "Specificity: 1.0\n",
            "Precision: 1.0\n",
            "f_1 Score: 0.93\n"
          ]
        }
      ],
      "source": [
        "# Evaluating Metrices\n",
        "\n",
        "TP = cm[1][1]\n",
        "TN = cm[0][0]\n",
        "FP = cm[0][1]\n",
        "FN = cm[1][0]\n",
        "print('True Positives:', TP)\n",
        "print('True Negatives:', TN)\n",
        "print('False Positives:', FP)\n",
        "print('False Negatives:', FN)\n",
        "\n",
        "# calculate accuracy\n",
        "conf_accuracy = (float (TP+TN) / float(TP + TN + FP + FN))\n",
        "\n",
        "# calculate mis-classification\n",
        "conf_misclassification = 1- conf_accuracy\n",
        "\n",
        "# calculate the sensitivity\n",
        "conf_sensitivity = (TP / float(TP + FN))\n",
        "# calculate the specificity\n",
        "conf_specificity = (TN / float(TN + FP))\n",
        "\n",
        "# calculate precision\n",
        "conf_precision = (TN / float(TN + FP))\n",
        "# calculate f_1 score\n",
        "conf_f1 = 2 * ((conf_precision * conf_sensitivity) / (conf_precision + conf_sensitivity))\n",
        "print('-'*50)\n",
        "print(f'Accuracy: {round(conf_accuracy,2)}')\n",
        "print(f'Mis-Classification: {round(conf_misclassification,2)}')\n",
        "print(f'Sensitivity: {round(conf_sensitivity,2)}')\n",
        "print(f'Specificity: {round(conf_specificity,2)}')\n",
        "print(f'Precision: {round(conf_precision,2)}')\n",
        "print(f'f_1 Score: {round(conf_f1,2)}')"
      ]
    },
    {
      "cell_type": "code",
      "execution_count": 74,
      "metadata": {
        "colab": {
          "base_uri": "https://localhost:8080/"
        },
        "id": "aVz3pcSowmuw",
        "outputId": "f35456b9-9a8c-4640-cac3-85fe74bb9b3d"
      },
      "outputs": [
        {
          "output_type": "stream",
          "name": "stdout",
          "text": [
            "--------------------------------------------------\n",
            "Accuracy: 0.9286\n",
            "Mis-Classification: 0.0714\n",
            "Sensitivity: 0.8636\n",
            "Specificity: 1.0\n",
            "Precision: 1.0\n",
            "NPV: 0.8696\n",
            "f_1 Score: 1.85\n"
          ]
        }
      ],
      "source": [
        "# calculate accuracy\n",
        "conf_accuracy = (float (TP+TN) / float(TP + TN + FP + FN))\n",
        "\n",
        "# calculate mis-classification\n",
        "conf_misclassification = 1- conf_accuracy\n",
        "\n",
        "# calculate the sensitivity\n",
        "conf_sensitivity = (TP / float(TP + FN))\n",
        "# calculate the specificity\n",
        "conf_specificity = (TN / float(TN + FP))\n",
        "\n",
        "# calculate precision\n",
        "conf_precision = (TN / float(TN + FP))\n",
        "# calculate NPV\n",
        "conf_NPV = (TN / float(TN + FN))\n",
        "# calculate f_1 score\n",
        "conf_f1 = 4 * ((conf_precision * conf_sensitivity) / (conf_precision + conf_sensitivity))\n",
        "print('-'*50)\n",
        "print(f'Accuracy: {round(conf_accuracy,4)}')\n",
        "print(f'Mis-Classification: {round(conf_misclassification,4)}')\n",
        "print(f'Sensitivity: {round(conf_sensitivity,4)}')\n",
        "print(f'Specificity: {round(conf_specificity,4)}')\n",
        "print(f'Precision: {round(conf_precision,4)}')\n",
        "print(f'NPV: {round(conf_NPV,4)}')\n",
        "print(f'f_1 Score: {round(conf_f1,2)}')"
      ]
    },
    {
      "cell_type": "code",
      "execution_count": 75,
      "metadata": {
        "colab": {
          "base_uri": "https://localhost:8080/",
          "height": 588
        },
        "id": "S1KB8E9cwpZY",
        "outputId": "4c29ca3d-dc37-433b-c67e-18596cb21f3f"
      },
      "outputs": [
        {
          "output_type": "display_data",
          "data": {
            "text/plain": [
              "<Figure size 640x480 with 1 Axes>"
            ],
            "image/png": "[encoded data removed]"
          },
          "metadata": {}
        },
        {
          "output_type": "stream",
          "name": "stdout",
          "text": [
            "--------------------------------------------------\n",
            "Accuracy: 0.9286\n",
            "Mis-Classification: 0.0714\n",
            "Sensitivity: 0.8636\n",
            "Specificity: 1.0\n",
            "Precision: 1.0\n",
            "NPV: 0.8696\n",
            "f_1 Score: 1.85\n"
          ]
        }
      ],
      "source": [
        "import matplotlib.pyplot as plt\n",
        "from sklearn.metrics import roc_curve, roc_auc_score\n",
        "\n",
        "# Calculate accuracy\n",
        "conf_accuracy = (float(TP + TN) / float(TP + TN + FP + FN))\n",
        "\n",
        "# Calculate mis-classification\n",
        "conf_misclassification = 1 - conf_accuracy\n",
        "\n",
        "# Calculate sensitivity\n",
        "conf_sensitivity = (TP / float(TP + FN))\n",
        "\n",
        "# Calculate specificity\n",
        "conf_specificity = (TN / float(TN + FP))\n",
        "\n",
        "# Calculate precision\n",
        "conf_precision = (TN / float(TN + FP))\n",
        "\n",
        "# Calculate NPV\n",
        "conf_NPV = (TN / float(TN + FN))\n",
        "\n",
        "# Calculate f_1 score\n",
        "conf_f1 = 4 * ((conf_precision * conf_sensitivity) / (conf_precision + conf_sensitivity))\n",
        "\n",
        "# Calculate predicted probabilities\n",
        "y_scores = model.predict_on_batch(X_test)[:, 1]  # Assuming you have a model and input data (X) available\n",
        "\n",
        "# Calculate false positive rate, true positive rate, and thresholds\n",
        "fpr, tpr, thresholds = roc_curve(y_test_arg, y_scores)  # Replace y_true with your true labels\n",
        "\n",
        "# Calculate AUC score\n",
        "auc = roc_auc_score(y_test_arg, y_scores)  # Replace y_true with your true labels\n",
        "\n",
        "# Plot ROC curve\n",
        "plt.figure()\n",
        "plt.plot(fpr, tpr, 'm', label='ROC curve (area = %0.2f)' % auc)\n",
        "plt.plot([0, 1], [0, 1], 'b')\n",
        "plt.xlim([0.0, 1.0])\n",
        "plt.ylim([0.0, 1.05])\n",
        "plt.xlabel('False Positive Rate')\n",
        "plt.ylabel('True Positive Rate')\n",
        "plt.legend(loc=\"lower right\")\n",
        "plt.show()\n",
        "\n",
        "print('-' * 50)\n",
        "print(f'Accuracy: {round(conf_accuracy, 4)}')\n",
        "print(f'Mis-Classification: {round(conf_misclassification, 4)}')\n",
        "print(f'Sensitivity: {round(conf_sensitivity, 4)}')\n",
        "print(f'Specificity: {round(conf_specificity, 4)}')\n",
        "print(f'Precision: {round(conf_precision, 4)}')\n",
        "print(f'NPV: {round(conf_NPV, 4)}')\n",
        "print(f'f_1 Score: {round(conf_f1, 2)}')\n"
      ]
    }
  ],
  "metadata": {
    "accelerator": "GPU",
    "colab": {
      "provenance": []
    },
    "kernelspec": {
      "display_name": "Python 3",
      "name": "python3"
    },
    "language_info": {
      "name": "python"
    }
  },
  "nbformat": 4,
  "nbformat_minor": 0
}