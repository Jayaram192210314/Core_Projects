{
  "nbformat": 4,
  "nbformat_minor": 0,
  "metadata": {
    "colab": {
      "provenance": []
    },
    "kernelspec": {
      "name": "python3",
      "display_name": "Python 3"
    },
    "language_info": {
      "name": "python"
    },
    "accelerator": "GPU"
  },
  "cells": [
    {
      "cell_type": "code",
      "source": [
        "pip install tensorflow==2.8.0"
      ],
      "metadata": {
        "colab": {
          "base_uri": "https://localhost:8080/"
        },
        "id": "u07AURJzhFpk",
        "outputId": "3ed9fdce-4fd8-4851-e3be-471e8214584e"
      },
      "execution_count": null,
      "outputs": [
        {
          "output_type": "stream",
          "name": "stdout",
          "text": [
            "Collecting tensorflow==2.8.0\n",
            "  Downloading tensorflow-2.8.0-cp310-cp310-manylinux2010_x86_64.whl (497.6 MB)\n",
            "\u001b[2K     \u001b[90m━━━━━━━━━━━━━━━━━━━━━━━━━━━━━━━━━━━━━━━━\u001b[0m \u001b[32m497.6/497.6 MB\u001b[0m \u001b[31m2.0 MB/s\u001b[0m eta \u001b[36m0:00:00\u001b[0m\n",
            "\u001b[?25hRequirement already satisfied: absl-py>=0.4.0 in /usr/local/lib/python3.10/dist-packages (from tensorflow==2.8.0) (1.4.0)\n",
            "Requirement already satisfied: astunparse>=1.6.0 in /usr/local/lib/python3.10/dist-packages (from tensorflow==2.8.0) (1.6.3)\n",
            "Requirement already satisfied: flatbuffers>=1.12 in /usr/local/lib/python3.10/dist-packages (from tensorflow==2.8.0) (23.5.26)\n",
            "Requirement already satisfied: gast>=0.2.1 in /usr/local/lib/python3.10/dist-packages (from tensorflow==2.8.0) (0.5.4)\n",
            "Requirement already satisfied: google-pasta>=0.1.1 in /usr/local/lib/python3.10/dist-packages (from tensorflow==2.8.0) (0.2.0)\n",
            "Requirement already satisfied: h5py>=2.9.0 in /usr/local/lib/python3.10/dist-packages (from tensorflow==2.8.0) (3.9.0)\n",
            "Collecting keras-preprocessing>=1.1.1 (from tensorflow==2.8.0)\n",
            "  Downloading Keras_Preprocessing-1.1.2-py2.py3-none-any.whl (42 kB)\n",
            "\u001b[2K     \u001b[90m━━━━━━━━━━━━━━━━━━━━━━━━━━━━━━━━━━━━━━━━\u001b[0m \u001b[32m42.6/42.6 kB\u001b[0m \u001b[31m5.9 MB/s\u001b[0m eta \u001b[36m0:00:00\u001b[0m\n",
            "\u001b[?25hRequirement already satisfied: libclang>=9.0.1 in /usr/local/lib/python3.10/dist-packages (from tensorflow==2.8.0) (16.0.6)\n",
            "Requirement already satisfied: numpy>=1.20 in /usr/local/lib/python3.10/dist-packages (from tensorflow==2.8.0) (1.23.5)\n",
            "Requirement already satisfied: opt-einsum>=2.3.2 in /usr/local/lib/python3.10/dist-packages (from tensorflow==2.8.0) (3.3.0)\n",
            "Requirement already satisfied: protobuf>=3.9.2 in /usr/local/lib/python3.10/dist-packages (from tensorflow==2.8.0) (3.20.3)\n",
            "Requirement already satisfied: setuptools in /usr/local/lib/python3.10/dist-packages (from tensorflow==2.8.0) (67.7.2)\n",
            "Requirement already satisfied: six>=1.12.0 in /usr/local/lib/python3.10/dist-packages (from tensorflow==2.8.0) (1.16.0)\n",
            "Requirement already satisfied: termcolor>=1.1.0 in /usr/local/lib/python3.10/dist-packages (from tensorflow==2.8.0) (2.4.0)\n",
            "Requirement already satisfied: typing-extensions>=3.6.6 in /usr/local/lib/python3.10/dist-packages (from tensorflow==2.8.0) (4.9.0)\n",
            "Requirement already satisfied: wrapt>=1.11.0 in /usr/local/lib/python3.10/dist-packages (from tensorflow==2.8.0) (1.14.1)\n",
            "Collecting tensorboard<2.9,>=2.8 (from tensorflow==2.8.0)\n",
            "  Downloading tensorboard-2.8.0-py3-none-any.whl (5.8 MB)\n",
            "\u001b[2K     \u001b[90m━━━━━━━━━━━━━━━━━━━━━━━━━━━━━━━━━━━━━━━━\u001b[0m \u001b[32m5.8/5.8 MB\u001b[0m \u001b[31m50.3 MB/s\u001b[0m eta \u001b[36m0:00:00\u001b[0m\n",
            "\u001b[?25hCollecting tf-estimator-nightly==2.8.0.dev2021122109 (from tensorflow==2.8.0)\n",
            "  Downloading tf_estimator_nightly-2.8.0.dev2021122109-py2.py3-none-any.whl (462 kB)\n",
            "\u001b[2K     \u001b[90m━━━━━━━━━━━━━━━━━━━━━━━━━━━━━━━━━━━━━━━━\u001b[0m \u001b[32m462.5/462.5 kB\u001b[0m \u001b[31m29.5 MB/s\u001b[0m eta \u001b[36m0:00:00\u001b[0m\n",
            "\u001b[?25hCollecting keras<2.9,>=2.8.0rc0 (from tensorflow==2.8.0)\n",
            "  Downloading keras-2.8.0-py2.py3-none-any.whl (1.4 MB)\n",
            "\u001b[2K     \u001b[90m━━━━━━━━━━━━━━━━━━━━━━━━━━━━━━━━━━━━━━━━\u001b[0m \u001b[32m1.4/1.4 MB\u001b[0m \u001b[31m56.1 MB/s\u001b[0m eta \u001b[36m0:00:00\u001b[0m\n",
            "\u001b[?25hRequirement already satisfied: tensorflow-io-gcs-filesystem>=0.23.1 in /usr/local/lib/python3.10/dist-packages (from tensorflow==2.8.0) (0.35.0)\n",
            "Requirement already satisfied: grpcio<2.0,>=1.24.3 in /usr/local/lib/python3.10/dist-packages (from tensorflow==2.8.0) (1.60.1)\n",
            "Requirement already satisfied: wheel<1.0,>=0.23.0 in /usr/local/lib/python3.10/dist-packages (from astunparse>=1.6.0->tensorflow==2.8.0) (0.42.0)\n",
            "Requirement already satisfied: google-auth<3,>=1.6.3 in /usr/local/lib/python3.10/dist-packages (from tensorboard<2.9,>=2.8->tensorflow==2.8.0) (2.17.3)\n",
            "Collecting google-auth-oauthlib<0.5,>=0.4.1 (from tensorboard<2.9,>=2.8->tensorflow==2.8.0)\n",
            "  Downloading google_auth_oauthlib-0.4.6-py2.py3-none-any.whl (18 kB)\n",
            "Requirement already satisfied: markdown>=2.6.8 in /usr/local/lib/python3.10/dist-packages (from tensorboard<2.9,>=2.8->tensorflow==2.8.0) (3.5.2)\n",
            "Requirement already satisfied: requests<3,>=2.21.0 in /usr/local/lib/python3.10/dist-packages (from tensorboard<2.9,>=2.8->tensorflow==2.8.0) (2.31.0)\n",
            "Collecting tensorboard-data-server<0.7.0,>=0.6.0 (from tensorboard<2.9,>=2.8->tensorflow==2.8.0)\n",
            "  Downloading tensorboard_data_server-0.6.1-py3-none-manylinux2010_x86_64.whl (4.9 MB)\n",
            "\u001b[2K     \u001b[90m━━━━━━━━━━━━━━━━━━━━━━━━━━━━━━━━━━━━━━━━\u001b[0m \u001b[32m4.9/4.9 MB\u001b[0m \u001b[31m36.9 MB/s\u001b[0m eta \u001b[36m0:00:00\u001b[0m\n",
            "\u001b[?25hCollecting tensorboard-plugin-wit>=1.6.0 (from tensorboard<2.9,>=2.8->tensorflow==2.8.0)\n",
            "  Downloading tensorboard_plugin_wit-1.8.1-py3-none-any.whl (781 kB)\n",
            "\u001b[2K     \u001b[90m━━━━━━━━━━━━━━━━━━━━━━━━━━━━━━━━━━━━━━━━\u001b[0m \u001b[32m781.3/781.3 kB\u001b[0m \u001b[31m25.6 MB/s\u001b[0m eta \u001b[36m0:00:00\u001b[0m\n",
            "\u001b[?25hRequirement already satisfied: werkzeug>=0.11.15 in /usr/local/lib/python3.10/dist-packages (from tensorboard<2.9,>=2.8->tensorflow==2.8.0) (3.0.1)\n",
            "Requirement already satisfied: cachetools<6.0,>=2.0.0 in /usr/local/lib/python3.10/dist-packages (from google-auth<3,>=1.6.3->tensorboard<2.9,>=2.8->tensorflow==2.8.0) (5.3.2)\n",
            "Requirement already satisfied: pyasn1-modules>=0.2.1 in /usr/local/lib/python3.10/dist-packages (from google-auth<3,>=1.6.3->tensorboard<2.9,>=2.8->tensorflow==2.8.0) (0.3.0)\n",
            "Requirement already satisfied: rsa<5,>=3.1.4 in /usr/local/lib/python3.10/dist-packages (from google-auth<3,>=1.6.3->tensorboard<2.9,>=2.8->tensorflow==2.8.0) (4.9)\n",
            "Requirement already satisfied: requests-oauthlib>=0.7.0 in /usr/local/lib/python3.10/dist-packages (from google-auth-oauthlib<0.5,>=0.4.1->tensorboard<2.9,>=2.8->tensorflow==2.8.0) (1.3.1)\n",
            "Requirement already satisfied: charset-normalizer<4,>=2 in /usr/local/lib/python3.10/dist-packages (from requests<3,>=2.21.0->tensorboard<2.9,>=2.8->tensorflow==2.8.0) (3.3.2)\n",
            "Requirement already satisfied: idna<4,>=2.5 in /usr/local/lib/python3.10/dist-packages (from requests<3,>=2.21.0->tensorboard<2.9,>=2.8->tensorflow==2.8.0) (3.6)\n",
            "Requirement already satisfied: urllib3<3,>=1.21.1 in /usr/local/lib/python3.10/dist-packages (from requests<3,>=2.21.0->tensorboard<2.9,>=2.8->tensorflow==2.8.0) (2.0.7)\n",
            "Requirement already satisfied: certifi>=2017.4.17 in /usr/local/lib/python3.10/dist-packages (from requests<3,>=2.21.0->tensorboard<2.9,>=2.8->tensorflow==2.8.0) (2024.2.2)\n",
            "Requirement already satisfied: MarkupSafe>=2.1.1 in /usr/local/lib/python3.10/dist-packages (from werkzeug>=0.11.15->tensorboard<2.9,>=2.8->tensorflow==2.8.0) (2.1.5)\n",
            "Requirement already satisfied: pyasn1<0.6.0,>=0.4.6 in /usr/local/lib/python3.10/dist-packages (from pyasn1-modules>=0.2.1->google-auth<3,>=1.6.3->tensorboard<2.9,>=2.8->tensorflow==2.8.0) (0.5.1)\n",
            "Requirement already satisfied: oauthlib>=3.0.0 in /usr/local/lib/python3.10/dist-packages (from requests-oauthlib>=0.7.0->google-auth-oauthlib<0.5,>=0.4.1->tensorboard<2.9,>=2.8->tensorflow==2.8.0) (3.2.2)\n",
            "Installing collected packages: tf-estimator-nightly, tensorboard-plugin-wit, keras, tensorboard-data-server, keras-preprocessing, google-auth-oauthlib, tensorboard, tensorflow\n",
            "  Attempting uninstall: keras\n",
            "    Found existing installation: keras 2.15.0\n",
            "    Uninstalling keras-2.15.0:\n",
            "      Successfully uninstalled keras-2.15.0\n",
            "  Attempting uninstall: tensorboard-data-server\n",
            "    Found existing installation: tensorboard-data-server 0.7.2\n",
            "    Uninstalling tensorboard-data-server-0.7.2:\n",
            "      Successfully uninstalled tensorboard-data-server-0.7.2\n",
            "  Attempting uninstall: google-auth-oauthlib\n",
            "    Found existing installation: google-auth-oauthlib 1.2.0\n",
            "    Uninstalling google-auth-oauthlib-1.2.0:\n",
            "      Successfully uninstalled google-auth-oauthlib-1.2.0\n",
            "  Attempting uninstall: tensorboard\n",
            "    Found existing installation: tensorboard 2.15.1\n",
            "    Uninstalling tensorboard-2.15.1:\n",
            "      Successfully uninstalled tensorboard-2.15.1\n",
            "  Attempting uninstall: tensorflow\n",
            "    Found existing installation: tensorflow 2.15.0\n",
            "    Uninstalling tensorflow-2.15.0:\n",
            "      Successfully uninstalled tensorflow-2.15.0\n",
            "\u001b[31mERROR: pip's dependency resolver does not currently take into account all the packages that are installed. This behaviour is the source of the following dependency conflicts.\n",
            "pandas-gbq 0.19.2 requires google-auth-oauthlib>=0.7.0, but you have google-auth-oauthlib 0.4.6 which is incompatible.\u001b[0m\u001b[31m\n",
            "\u001b[0mSuccessfully installed google-auth-oauthlib-0.4.6 keras-2.8.0 keras-preprocessing-1.1.2 tensorboard-2.8.0 tensorboard-data-server-0.6.1 tensorboard-plugin-wit-1.8.1 tensorflow-2.8.0 tf-estimator-nightly-2.8.0.dev2021122109\n"
          ]
        }
      ]
    },
    {
      "cell_type": "code",
      "source": [
        "pip install scikit-learn"
      ],
      "metadata": {
        "colab": {
          "base_uri": "https://localhost:8080/"
        },
        "id": "wSKdVO3aTZGl",
        "outputId": "b2377ed3-6cc1-48b6-e3b9-f7f377c9ac3a"
      },
      "execution_count": null,
      "outputs": [
        {
          "output_type": "stream",
          "name": "stdout",
          "text": [
            "Requirement already satisfied: scikit-learn in /usr/local/lib/python3.10/dist-packages (1.2.2)\n",
            "Requirement already satisfied: numpy>=1.17.3 in /usr/local/lib/python3.10/dist-packages (from scikit-learn) (1.23.5)\n",
            "Requirement already satisfied: scipy>=1.3.2 in /usr/local/lib/python3.10/dist-packages (from scikit-learn) (1.11.4)\n",
            "Requirement already satisfied: joblib>=1.1.1 in /usr/local/lib/python3.10/dist-packages (from scikit-learn) (1.3.2)\n",
            "Requirement already satisfied: threadpoolctl>=2.0.0 in /usr/local/lib/python3.10/dist-packages (from scikit-learn) (3.2.0)\n"
          ]
        }
      ]
    },
    {
      "cell_type": "code",
      "source": [
        "import os\n",
        "from glob import glob\n",
        "from matplotlib import pyplot\n",
        "import matplotlib.pyplot as plt\n",
        "import tensorflow as tf\n",
        "import random\n",
        "import cv2\n",
        "import pandas as pd\n",
        "import numpy as np\n",
        "import matplotlib.gridspec as gridspec\n",
        "import seaborn as sns\n",
        "import itertools\n",
        "import sklearn\n",
        "import itertools\n",
        "import scipy\n",
        "import skimage\n",
        "from skimage.transform import resize\n",
        "import csv\n",
        "from tqdm import tqdm\n",
        "from sklearn import model_selection\n",
        "from sklearn.model_selection import train_test_split, learning_curve,KFold,cross_val_score,StratifiedKFold\n",
        "from sklearn.metrics import confusion_matrix\n",
        "from sklearn.metrics import classification_report\n",
        "import keras\n",
        "from keras.utils import np_utils\n",
        "from keras.utils.np_utils import to_categorical\n",
        "from tensorflow.keras.utils import load_img,img_to_array\n",
        "from keras.preprocessing.image import ImageDataGenerator\n",
        "from keras import models, layers, optimizers\n",
        "from sklearn.model_selection import train_test_split\n",
        "from sklearn.metrics import confusion_matrix, accuracy_score\n",
        "from keras.layers import Activation,Dense, Dropout, Flatten\n",
        "\n",
        "from keras.models import Model\n",
        "\n",
        "%matplotlib inline\n",
        "\n",
        "import warnings\n",
        "warnings.filterwarnings(\"ignore\")"
      ],
      "metadata": {
        "id": "PE5h8FQthHxr"
      },
      "execution_count": null,
      "outputs": []
    },
    {
      "cell_type": "code",
      "metadata": {
        "colab": {
          "base_uri": "https://localhost:8080/"
        },
        "id": "nEAP6IxEY3l6",
        "outputId": "1a61801e-1acf-4d31-a7e4-e5f52e9c28fa"
      },
      "source": [
        "from google.colab import drive\n",
        "drive.mount('/content/drive')"
      ],
      "execution_count": null,
      "outputs": [
        {
          "output_type": "stream",
          "name": "stdout",
          "text": [
            "Mounted at /content/drive\n"
          ]
        }
      ]
    },
    {
      "cell_type": "code",
      "source": [
        "from google.colab import drive\n",
        "drive.mount('/content/drive')"
      ],
      "metadata": {
        "colab": {
          "base_uri": "https://localhost:8080/"
        },
        "id": "K8on-KvkKvHd",
        "outputId": "1128540a-88dd-4e07-eb26-26991e0f703a"
      },
      "execution_count": null,
      "outputs": [
        {
          "output_type": "stream",
          "name": "stdout",
          "text": [
            "Drive already mounted at /content/drive; to attempt to forcibly remount, call drive.mount(\"/content/drive\", force_remount=True).\n"
          ]
        }
      ]
    },
    {
      "cell_type": "code",
      "metadata": {
        "id": "5fkQFM3Ef2ri"
      },
      "source": [
        "''' Data Path '''\n",
        "train_path = '/content/drive/MyDrive/dataset'"
      ],
      "execution_count": null,
      "outputs": []
    },
    {
      "cell_type": "code",
      "metadata": {
        "colab": {
          "base_uri": "https://localhost:8080/"
        },
        "id": "WLXCLTByf9_g",
        "outputId": "08bb7822-7e90-4275-cac9-a38275514efb"
      },
      "source": [
        "File=[]\n",
        "for f in os.listdir(train_path):\n",
        "    File += [f]\n",
        "\n",
        "'''  total number of classes '''\n",
        "print(File)"
      ],
      "execution_count": null,
      "outputs": [
        {
          "output_type": "stream",
          "name": "stdout",
          "text": [
            "['Closed', 'Open']\n"
          ]
        }
      ]
    },
    {
      "cell_type": "code",
      "metadata": {
        "id": "CMyJz2V6hEKW"
      },
      "source": [
        "''' reading equal images for both GBM and LGG\n",
        "    ie., 300 images for GBM and 300 images for LGG\n",
        "\n",
        " '''\n",
        "\n",
        "train_data = []\n",
        "n_of_images=136\n",
        "\n",
        "''' label encoding '''\n",
        "mapping={'Closed':0, 'Open':1}\n",
        "\n",
        "count=0\n",
        "\n",
        "for f in os.listdir(train_path):\n",
        "    ''' joining path '''\n",
        "    t=0\n",
        "    path = os.path.join(train_path, f)\n",
        "    for im in os.listdir(path):\n",
        "        ''' loading an image '''\n",
        "        img = load_img(os.path.join(path, im), grayscale=False, color_mode='rgb', target_size=(150,150))\n",
        "        ''' converting an image to array '''\n",
        "        img = img_to_array(img)\n",
        "        ''' scaling  '''\n",
        "        img = img / 255.0\n",
        "        ''' appending image to train_data '''\n",
        "        train_data.append([img, count])\n",
        "        t+=1\n",
        "        if t==n_of_images:\n",
        "          break\n",
        "    count=count+1"
      ],
      "execution_count": null,
      "outputs": []
    },
    {
      "cell_type": "code",
      "metadata": {
        "id": "f7VfT-UDizoA"
      },
      "source": [
        "train_images, train_labels = zip(*train_data)"
      ],
      "execution_count": null,
      "outputs": []
    },
    {
      "cell_type": "code",
      "metadata": {
        "colab": {
          "base_uri": "https://localhost:8080/"
        },
        "id": "gOHNDsuSi5oy",
        "outputId": "74df09e1-f4c9-4180-e4f3-549887196eae"
      },
      "source": [
        "''' converting labels into to_categorical '''\n",
        "train_labels = to_categorical(train_labels)\n",
        "\n",
        "''' coverting train_images into numpy array '''\n",
        "train_images = np.array(train_images)\n",
        "\n",
        "''' converting train_labesl into numpy array '''\n",
        "train_labels = np.array(train_labels)\n",
        "\n",
        "''' shaep of train_images and train_labels '''\n",
        "print(train_images.shape)\n",
        "print(train_labels.shape)"
      ],
      "execution_count": null,
      "outputs": [
        {
          "output_type": "stream",
          "name": "stdout",
          "text": [
            "(272, 150, 150, 3)\n",
            "(272, 2)\n"
          ]
        }
      ]
    },
    {
      "cell_type": "code",
      "metadata": {
        "id": "RvgdvMLSjAsd"
      },
      "source": [
        "''' reshaping images '''\n",
        "train_images = train_images.reshape(-1,150,150,3)"
      ],
      "execution_count": null,
      "outputs": []
    },
    {
      "cell_type": "code",
      "metadata": {
        "id": "qPLH9Sw3jEMc"
      },
      "source": [
        "''' train test split '''\n",
        "X_train, X_test, y_train, y_test = train_test_split(train_images,train_labels, test_size=0.3,random_state=44)"
      ],
      "execution_count": null,
      "outputs": []
    },
    {
      "cell_type": "code",
      "metadata": {
        "colab": {
          "base_uri": "https://localhost:8080/"
        },
        "id": "V_ZoNJp9jIvq",
        "outputId": "1c636f0a-f918-4ec6-981a-985ed2e825fb"
      },
      "source": [
        "''' shape of X_train, X_test, y_train, y_test '''\n",
        "print(X_train.shape)\n",
        "print(X_test.shape)\n",
        "print(y_train.shape)\n",
        "print(y_test.shape)"
      ],
      "execution_count": null,
      "outputs": [
        {
          "output_type": "stream",
          "name": "stdout",
          "text": [
            "(190, 150, 150, 3)\n",
            "(82, 150, 150, 3)\n",
            "(190, 2)\n",
            "(82, 2)\n"
          ]
        }
      ]
    },
    {
      "cell_type": "code",
      "metadata": {
        "id": "FC9kp6kwjNQY"
      },
      "source": [
        "''' data Augmentation '''\n",
        "data_aug = ImageDataGenerator(horizontal_flip=True, vertical_flip=True, rotation_range=20, zoom_range=0.2,\n",
        "                    width_shift_range=0.2, height_shift_range=0.2, shear_range=0.1, fill_mode=\"nearest\")"
      ],
      "execution_count": null,
      "outputs": []
    },
    {
      "cell_type": "markdown",
      "metadata": {
        "id": "Tk3CZ3LUjqNf"
      },
      "source": [
        "####### Working with RESNET50 MODEL #######"
      ]
    },
    {
      "cell_type": "code",
      "source": [
        "import tensorflow as tf\n",
        "model1 =tf.keras.applications.resnet50.ResNet50(input_shape=(150,150,3),include_top=False,weights='imagenet',pooling='avg')\n",
        "''' freezing layers '''\n",
        "model1.trainable = False"
      ],
      "metadata": {
        "id": "ixIqxKVIjHPR"
      },
      "execution_count": null,
      "outputs": []
    },
    {
      "cell_type": "code",
      "metadata": {
        "id": "XNdsnzR0jwYV"
      },
      "source": [
        "inp = model1.input\n",
        "''' Hidden Layer '''\n",
        "x = tf.keras.layers.Dense(128, activation='relu')(model1.output)\n",
        "''' Classification Layer '''\n",
        "out = tf.keras.layers.Dense(2, activation='sigmoid')(x)\n",
        "\n",
        "''' Model '''\n",
        "model = tf.keras.Model(inputs=inp, outputs=out)\n",
        "\n",
        "''' compile the model '''\n",
        "model.compile(loss = 'categorical_crossentropy', optimizer='adam', metrics=['accuracy'])"
      ],
      "execution_count": null,
      "outputs": []
    },
    {
      "cell_type": "code",
      "metadata": {
        "colab": {
          "base_uri": "https://localhost:8080/"
        },
        "id": "pGjtofNgjz0R",
        "outputId": "6031c48d-d6a2-48fb-d600-9d8efd25e272"
      },
      "source": [
        "''' training '''\n",
        "# Assuming you have data augmentation configured with `ImageDataGenerator` as `data_aug`\n",
        "# Ensure that `data_aug` is correctly configured with the necessary augmentation parameters\n",
        "\n",
        "# Use the flow method on `data_aug` to generate augmented data batches\n",
        "augmented_data = data_aug.flow(X_train, y_train, batch_size=42)\n",
        "\n",
        "# Train the model using the augmented data\n",
        "history = model.fit(augmented_data, validation_data=(X_test, y_test), epochs=10)\n"
      ],
      "execution_count": null,
      "outputs": [
        {
          "output_type": "stream",
          "name": "stdout",
          "text": [
            "Epoch 1/10\n",
            "5/5 [==============================] - 26s 5s/step - loss: 0.7222 - accuracy: 0.5632 - val_loss: 0.7034 - val_accuracy: 0.5000\n",
            "Epoch 2/10\n",
            "5/5 [==============================] - 20s 4s/step - loss: 0.7160 - accuracy: 0.5211 - val_loss: 0.7064 - val_accuracy: 0.5000\n",
            "Epoch 3/10\n",
            "5/5 [==============================] - 22s 5s/step - loss: 0.7105 - accuracy: 0.5211 - val_loss: 0.6941 - val_accuracy: 0.5000\n",
            "Epoch 4/10\n",
            "5/5 [==============================] - 20s 5s/step - loss: 0.6795 - accuracy: 0.5842 - val_loss: 0.6881 - val_accuracy: 0.5000\n",
            "Epoch 5/10\n",
            "5/5 [==============================] - 22s 4s/step - loss: 0.6883 - accuracy: 0.5368 - val_loss: 0.6669 - val_accuracy: 0.6220\n",
            "Epoch 6/10\n",
            "5/5 [==============================] - 21s 4s/step - loss: 0.6723 - accuracy: 0.5579 - val_loss: 0.6601 - val_accuracy: 0.5000\n",
            "Epoch 7/10\n",
            "5/5 [==============================] - 22s 5s/step - loss: 0.6736 - accuracy: 0.5000 - val_loss: 0.6537 - val_accuracy: 0.5000\n",
            "Epoch 8/10\n",
            "5/5 [==============================] - 21s 4s/step - loss: 0.6522 - accuracy: 0.7316 - val_loss: 0.6526 - val_accuracy: 0.5732\n",
            "Epoch 9/10\n",
            "5/5 [==============================] - 22s 4s/step - loss: 0.6650 - accuracy: 0.5947 - val_loss: 0.6412 - val_accuracy: 0.5610\n",
            "Epoch 10/10\n",
            "5/5 [==============================] - 21s 5s/step - loss: 0.6558 - accuracy: 0.7158 - val_loss: 0.6316 - val_accuracy: 0.7073\n"
          ]
        }
      ]
    },
    {
      "cell_type": "code",
      "metadata": {
        "colab": {
          "base_uri": "https://localhost:8080/"
        },
        "id": "XsFJuHBJk6HW",
        "outputId": "ad60eac2-fc3a-42b3-d7c4-94541a83adc9"
      },
      "source": [
        "\n",
        "''' prediction '''\n",
        "y_pred=model.predict(X_test)\n",
        "\n",
        "''' retreiving max val from predicted values '''\n",
        "pred = np.argmax(y_pred,axis=1)\n",
        "\n",
        "''' retreiving max val from actual values '''\n",
        "ground = np.argmax(y_test,axis=1)\n",
        "\n",
        "''' classificaion report '''\n",
        "print(classification_report(ground,pred))"
      ],
      "execution_count": null,
      "outputs": [
        {
          "output_type": "stream",
          "name": "stdout",
          "text": [
            "              precision    recall  f1-score   support\n",
            "\n",
            "           0       0.81      0.54      0.65        41\n",
            "           1       0.65      0.88      0.75        41\n",
            "\n",
            "    accuracy                           0.71        82\n",
            "   macro avg       0.73      0.71      0.70        82\n",
            "weighted avg       0.73      0.71      0.70        82\n",
            "\n"
          ]
        }
      ]
    },
    {
      "cell_type": "code",
      "metadata": {
        "colab": {
          "base_uri": "https://localhost:8080/",
          "height": 469
        },
        "id": "uSYaDGivk__V",
        "outputId": "53135917-bdac-42c8-a674-ec6e2448e70f"
      },
      "source": [
        "''' training loss and validation loss graph '''\n",
        "epochs = range(1,11)\n",
        "plt.plot(epochs, history.history['loss'], 'r', label='Loss of Training data')\n",
        "plt.plot(epochs, history.history['val_loss'], 'g', label='Loss of Validation data')\n",
        "plt.title('Training vs validation loss')\n",
        "plt.legend(loc=0)\n",
        "plt.figure()\n",
        "plt.show()"
      ],
      "execution_count": null,
      "outputs": [
        {
          "output_type": "display_data",
          "data": {
            "text/plain": [
              "<Figure size 640x480 with 1 Axes>"
            ],
            "image/png": "[encoded data removed]"
          },
          "metadata": {}
        },
        {
          "output_type": "display_data",
          "data": {
            "text/plain": [
              "<Figure size 640x480 with 0 Axes>"
            ]
          },
          "metadata": {}
        }
      ]
    },
    {
      "cell_type": "code",
      "metadata": {
        "colab": {
          "base_uri": "https://localhost:8080/",
          "height": 469
        },
        "id": "g4Fk8PL-lLPP",
        "outputId": "f7f5fa9f-7a57-467c-b431-0514e9844b54"
      },
      "source": [
        "''' training accuracy and validation accuracy graph '''\n",
        "epochs = range(1,11)\n",
        "plt.plot(epochs, history.history['accuracy'], 'r', label='Accuracy of Training data')\n",
        "plt.plot(epochs, history.history['val_accuracy'], 'g', label='Accuracy of Validation data')\n",
        "plt.title('Training vs validation accuracy')\n",
        "plt.legend(loc=0)\n",
        "plt.figure()\n",
        "plt.show()"
      ],
      "execution_count": null,
      "outputs": [
        {
          "output_type": "display_data",
          "data": {
            "text/plain": [
              "<Figure size 640x480 with 1 Axes>"
            ],
            "image/png": "[encoded data removed]"
          },
          "metadata": {}
        },
        {
          "output_type": "display_data",
          "data": {
            "text/plain": [
              "<Figure size 640x480 with 0 Axes>"
            ]
          },
          "metadata": {}
        }
      ]
    },
    {
      "cell_type": "code",
      "metadata": {
        "colab": {
          "base_uri": "https://localhost:8080/"
        },
        "id": "ZTvJ8p8HlTZo",
        "outputId": "cd276838-fac8-4335-b9bf-179c29611de3"
      },
      "source": [
        "''' checking accuracy score'''\n",
        "y_test_arg=np.argmax(y_test,axis=1)\n",
        "Y_pred = np.argmax(model.predict(X_test),axis=1)\n",
        "accuracy = accuracy_score(y_test_arg, Y_pred)\n",
        "print(accuracy)"
      ],
      "execution_count": null,
      "outputs": [
        {
          "output_type": "stream",
          "name": "stdout",
          "text": [
            "0.7073170731707317\n"
          ]
        }
      ]
    },
    {
      "cell_type": "code",
      "metadata": {
        "colab": {
          "base_uri": "https://localhost:8080/",
          "height": 472
        },
        "id": "Rw-XemLSleei",
        "outputId": "f9c2ad41-6258-46a4-a027-f88c51d47dc2"
      },
      "source": [
        "import seaborn as sns\n",
        "from sklearn.metrics import confusion_matrix\n",
        "\n",
        "cm = confusion_matrix(y_test_arg, Y_pred)\n",
        "f = sns.heatmap(cm, annot=True, fmt='d')\n",
        "# labels, title and ticks\n",
        "f.set_xlabel('Predicted label');f.set_ylabel('True label');\n",
        "f.set_title('Confusion Matrix');\n",
        "f.xaxis.set_ticklabels(['DR', 'Normal']); f.yaxis.set_ticklabels(['DR', 'Normal']);"
      ],
      "execution_count": null,
      "outputs": [
        {
          "output_type": "display_data",
          "data": {
            "text/plain": [
              "<Figure size 640x480 with 2 Axes>"
            ],
            "image/png": "[encoded data removed]"
          },
          "metadata": {}
        }
      ]
    },
    {
      "cell_type": "code",
      "metadata": {
        "colab": {
          "base_uri": "https://localhost:8080/"
        },
        "id": "CQTrpMhZlnf4",
        "outputId": "4cb2641f-af9b-42a8-cca0-7b15dfbbf28b"
      },
      "source": [
        "# Evaluating Metrices\n",
        "\n",
        "TP = cm[1][1]\n",
        "TN = cm[0][0]\n",
        "FP = cm[0][1]\n",
        "FN = cm[1][0]\n",
        "print('True Positives:', TP)\n",
        "print('True Negatives:', TN)\n",
        "print('False Positives:', FP)\n",
        "print('False Negatives:', FN)\n",
        "\n",
        "# calculate accuracy\n",
        "conf_accuracy = (float (TP+TN) / float(TP + TN + FP + FN))\n",
        "\n",
        "# calculate mis-classification\n",
        "conf_misclassification = 1- conf_accuracy\n",
        "\n",
        "# calculate the sensitivity\n",
        "conf_sensitivity = (TP / float(TP + FN))\n",
        "# calculate the specificity\n",
        "conf_specificity = (TN / float(TN + FP))\n",
        "\n",
        "# calculate precision\n",
        "conf_precision = (TN / float(TN + FP))\n",
        "# calculate f_1 score\n",
        "conf_f1 = 2 * ((conf_precision * conf_sensitivity) / (conf_precision + conf_sensitivity))\n",
        "print('-'*50)\n",
        "print(f'Accuracy: {round(conf_accuracy,2)}')\n",
        "print(f'Mis-Classification: {round(conf_misclassification,2)}')\n",
        "print(f'Sensitivity: {round(conf_sensitivity,2)}')\n",
        "print(f'Specificity: {round(conf_specificity,2)}')\n",
        "print(f'Precision: {round(conf_precision,2)}')\n",
        "print(f'f_1 Score: {round(conf_f1,2)}')"
      ],
      "execution_count": null,
      "outputs": [
        {
          "output_type": "stream",
          "name": "stdout",
          "text": [
            "True Positives: 36\n",
            "True Negatives: 22\n",
            "False Positives: 19\n",
            "False Negatives: 5\n",
            "--------------------------------------------------\n",
            "Accuracy: 0.71\n",
            "Mis-Classification: 0.29\n",
            "Sensitivity: 0.88\n",
            "Specificity: 0.54\n",
            "Precision: 0.54\n",
            "f_1 Score: 0.67\n"
          ]
        }
      ]
    },
    {
      "cell_type": "code",
      "source": [
        "# calculate accuracy\n",
        "conf_accuracy = (float (TP+TN) / float(TP + TN + FP + FN))\n",
        "\n",
        "# calculate mis-classification\n",
        "conf_misclassification = 1- conf_accuracy\n",
        "\n",
        "# calculate the sensitivity\n",
        "conf_sensitivity = (TP / float(TP + FN))\n",
        "# calculate the specificity\n",
        "conf_specificity = (TN / float(TN + FP))\n",
        "\n",
        "# calculate precision\n",
        "conf_precision = (TN / float(TN + FP))\n",
        "# calculate NPV\n",
        "conf_NPV = (TN / float(TN + FN))\n",
        "# calculate f_1 score\n",
        "conf_f1 = 4 * ((conf_precision * conf_sensitivity) / (conf_precision + conf_sensitivity))\n",
        "print('-'*50)\n",
        "print(f'Accuracy: {round(conf_accuracy,4)}')\n",
        "print(f'Mis-Classification: {round(conf_misclassification,4)}')\n",
        "print(f'Sensitivity: {round(conf_sensitivity,4)}')\n",
        "print(f'Specificity: {round(conf_specificity,4)}')\n",
        "print(f'Precision: {round(conf_precision,4)}')\n",
        "print(f'NPV: {round(conf_NPV,4)}')\n",
        "print(f'f_1 Score: {round(conf_f1,2)}')"
      ],
      "metadata": {
        "id": "aVz3pcSowmuw",
        "colab": {
          "base_uri": "https://localhost:8080/"
        },
        "outputId": "2c46a5d5-e78a-40f6-ec7f-e834303fa4c1"
      },
      "execution_count": null,
      "outputs": [
        {
          "output_type": "stream",
          "name": "stdout",
          "text": [
            "--------------------------------------------------\n",
            "Accuracy: 0.7073\n",
            "Mis-Classification: 0.2927\n",
            "Sensitivity: 0.878\n",
            "Specificity: 0.5366\n",
            "Precision: 0.5366\n",
            "NPV: 0.8148\n",
            "f_1 Score: 1.33\n"
          ]
        }
      ]
    },
    {
      "cell_type": "code",
      "source": [
        "import matplotlib.pyplot as plt\n",
        "from sklearn.metrics import roc_curve, roc_auc_score\n",
        "\n",
        "# Calculate accuracy\n",
        "conf_accuracy = (float(TP + TN) / float(TP + TN + FP + FN))\n",
        "\n",
        "# Calculate mis-classification\n",
        "conf_misclassification = 1 - conf_accuracy\n",
        "\n",
        "# Calculate sensitivity\n",
        "conf_sensitivity = (TP / float(TP + FN))\n",
        "\n",
        "# Calculate specificity\n",
        "conf_specificity = (TN / float(TN + FP))\n",
        "\n",
        "# Calculate precision\n",
        "conf_precision = (TN / float(TN + FP))\n",
        "\n",
        "# Calculate NPV\n",
        "conf_NPV = (TN / float(TN + FN))\n",
        "\n",
        "# Calculate f_1 score\n",
        "conf_f1 = 4 * ((conf_precision * conf_sensitivity) / (conf_precision + conf_sensitivity))\n",
        "\n",
        "# Calculate predicted probabilities\n",
        "y_scores = model.predict_on_batch(X_test)[:, 1]  # Assuming you have a model and input data (X) available\n",
        "\n",
        "# Calculate false positive rate, true positive rate, and thresholds\n",
        "fpr, tpr, thresholds = roc_curve(y_test_arg, y_scores)  # Replace y_true with your true labels\n",
        "\n",
        "# Calculate AUC score\n",
        "auc = roc_auc_score(y_test_arg, y_scores)  # Replace y_true with your true labels\n",
        "\n",
        "# Plot ROC curve\n",
        "plt.figure()\n",
        "plt.plot(fpr, tpr, 'm', label='ROC curve (area = %0.2f)' % auc)\n",
        "plt.plot([0, 1], [0, 1], 'b')\n",
        "plt.xlim([0.0, 1.0])\n",
        "plt.ylim([0.0, 1.05])\n",
        "plt.xlabel('False Positive Rate')\n",
        "plt.ylabel('True Positive Rate')\n",
        "plt.legend(loc=\"lower right\")\n",
        "plt.show()\n",
        "\n",
        "print('-' * 50)\n",
        "print(f'Accuracy: {round(conf_accuracy, 4)}')\n",
        "print(f'Mis-Classification: {round(conf_misclassification, 4)}')\n",
        "print(f'Sensitivity: {round(conf_sensitivity, 4)}')\n",
        "print(f'Specificity: {round(conf_specificity, 4)}')\n",
        "print(f'Precision: {round(conf_precision, 4)}')\n",
        "print(f'NPV: {round(conf_NPV, 4)}')\n",
        "print(f'f_1 Score: {round(conf_f1, 2)}')\n"
      ],
      "metadata": {
        "id": "S1KB8E9cwpZY",
        "colab": {
          "base_uri": "https://localhost:8080/",
          "height": 588
        },
        "outputId": "e3ec6b47-2a59-4520-b0c5-2671d01b2b19"
      },
      "execution_count": null,
      "outputs": [
        {
          "output_type": "display_data",
          "data": {
            "text/plain": [
              "<Figure size 640x480 with 1 Axes>"
            ],
            "image/png": "[encoded data removed]"
          },
          "metadata": {}
        },
        {
          "output_type": "stream",
          "name": "stdout",
          "text": [
            "--------------------------------------------------\n",
            "Accuracy: 0.7073\n",
            "Mis-Classification: 0.2927\n",
            "Sensitivity: 0.878\n",
            "Specificity: 0.5366\n",
            "Precision: 0.5366\n",
            "NPV: 0.8148\n",
            "f_1 Score: 1.33\n"
          ]
        }
      ]
    }
  ]
}